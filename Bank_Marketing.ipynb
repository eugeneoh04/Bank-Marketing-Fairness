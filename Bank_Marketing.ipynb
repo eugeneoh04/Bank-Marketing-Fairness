{
 "cells": [
  {
   "cell_type": "markdown",
   "metadata": {},
   "source": [
    "# Step 1: Dataset Selection"
   ]
  },
  {
   "cell_type": "markdown",
   "metadata": {},
   "source": [
    "[Bank Marketing](https://archive.ics.uci.edu/dataset/222/bank+marketing) dataset from UCI's machine learning repository was selected. The dataset belongs to regulated domain of credit."
   ]
  },
  {
   "cell_type": "code",
   "execution_count": 1,
   "metadata": {},
   "outputs": [
    {
     "name": "stderr",
     "output_type": "stream",
     "text": [
      "WARNING:root:No module named 'tensorflow': AdversarialDebiasing will be unavailable. To install, run:\n",
      "pip install 'aif360[AdversarialDebiasing]'\n",
      "WARNING:root:No module named 'tensorflow': AdversarialDebiasing will be unavailable. To install, run:\n",
      "pip install 'aif360[AdversarialDebiasing]'\n",
      "WARNING:root:No module named 'fairlearn': ExponentiatedGradientReduction will be unavailable. To install, run:\n",
      "pip install 'aif360[Reductions]'\n",
      "WARNING:root:No module named 'fairlearn': GridSearchReduction will be unavailable. To install, run:\n",
      "pip install 'aif360[Reductions]'\n",
      "WARNING:root:No module named 'inFairness': SenSeI and SenSR will be unavailable. To install, run:\n",
      "pip install 'aif360[inFairness]'\n",
      "WARNING:root:No module named 'fairlearn': GridSearchReduction will be unavailable. To install, run:\n",
      "pip install 'aif360[Reductions]'\n",
      "WARNING:root:No module named 'ot': ot_distance will be unavailable. To install, run:\n",
      "pip install 'aif360[OptimalTransport]'\n",
      "WARNING:root:No module named 'rpy2': FairAdapt will be unavailable. To install, run:\n",
      "pip install 'aif360[FairAdapt]'\n",
      "WARNING:root:No module named 'torch': LearnedFairRepresentations will be unavailable. To install, run:\n",
      "pip install 'aif360[LFR]'\n"
     ]
    }
   ],
   "source": [
    "from ucimlrepo import fetch_ucirepo \n",
    "import pandas as pd\n",
    "import matplotlib.pyplot as plt\n",
    "from aif360.datasets import BinaryLabelDataset\n",
    "from aif360.metrics import ClassificationMetric\n",
    "from aif360.sklearn.metrics import disparate_impact_ratio, statistical_parity_difference\n",
    "from aif360.sklearn.preprocessing import Reweighing\n",
    "from sklearn.preprocessing import OrdinalEncoder\n",
    "from sklearn.model_selection import train_test_split \n",
    "from sklearn.linear_model import LinearRegression"
   ]
  },
  {
   "cell_type": "markdown",
   "metadata": {},
   "source": [
    "Load dataset - online"
   ]
  },
  {
   "cell_type": "code",
   "execution_count": null,
   "metadata": {},
   "outputs": [],
   "source": [
    "# import dataset \n",
    "bank_marketing = fetch_ucirepo(id=222) \n",
    "X = bank_marketing.data.features \n",
    "y = bank_marketing.data.targets \n",
    "print(bank_marketing.metadata) \n",
    "print(bank_marketing.variables)"
   ]
  },
  {
   "cell_type": "code",
   "execution_count": null,
   "metadata": {},
   "outputs": [],
   "source": [
    "# convert to dataframe\n",
    "df = X.copy()\n",
    "df['y'] = y\n",
    "df.dropna(axis=0, inplace=True, ignore_index=True)\n",
    "df.head()"
   ]
  },
  {
   "cell_type": "markdown",
   "metadata": {},
   "source": [
    "Load dataset - offline"
   ]
  },
  {
   "cell_type": "code",
   "execution_count": 2,
   "metadata": {},
   "outputs": [
    {
     "data": {
      "text/html": [
       "<div>\n",
       "<style scoped>\n",
       "    .dataframe tbody tr th:only-of-type {\n",
       "        vertical-align: middle;\n",
       "    }\n",
       "\n",
       "    .dataframe tbody tr th {\n",
       "        vertical-align: top;\n",
       "    }\n",
       "\n",
       "    .dataframe thead th {\n",
       "        text-align: right;\n",
       "    }\n",
       "</style>\n",
       "<table border=\"1\" class=\"dataframe\">\n",
       "  <thead>\n",
       "    <tr style=\"text-align: right;\">\n",
       "      <th></th>\n",
       "      <th>age</th>\n",
       "      <th>job</th>\n",
       "      <th>marital</th>\n",
       "      <th>education</th>\n",
       "      <th>default</th>\n",
       "      <th>balance</th>\n",
       "      <th>housing</th>\n",
       "      <th>loan</th>\n",
       "      <th>contact</th>\n",
       "      <th>day_of_week</th>\n",
       "      <th>month</th>\n",
       "      <th>duration</th>\n",
       "      <th>campaign</th>\n",
       "      <th>pdays</th>\n",
       "      <th>previous</th>\n",
       "      <th>poutcome</th>\n",
       "      <th>y</th>\n",
       "    </tr>\n",
       "  </thead>\n",
       "  <tbody>\n",
       "    <tr>\n",
       "      <th>0</th>\n",
       "      <td>33</td>\n",
       "      <td>admin.</td>\n",
       "      <td>married</td>\n",
       "      <td>tertiary</td>\n",
       "      <td>no</td>\n",
       "      <td>882</td>\n",
       "      <td>no</td>\n",
       "      <td>no</td>\n",
       "      <td>telephone</td>\n",
       "      <td>21</td>\n",
       "      <td>oct</td>\n",
       "      <td>39</td>\n",
       "      <td>1</td>\n",
       "      <td>151</td>\n",
       "      <td>3</td>\n",
       "      <td>failure</td>\n",
       "      <td>no</td>\n",
       "    </tr>\n",
       "    <tr>\n",
       "      <th>1</th>\n",
       "      <td>42</td>\n",
       "      <td>admin.</td>\n",
       "      <td>single</td>\n",
       "      <td>secondary</td>\n",
       "      <td>no</td>\n",
       "      <td>-247</td>\n",
       "      <td>yes</td>\n",
       "      <td>yes</td>\n",
       "      <td>telephone</td>\n",
       "      <td>21</td>\n",
       "      <td>oct</td>\n",
       "      <td>519</td>\n",
       "      <td>1</td>\n",
       "      <td>166</td>\n",
       "      <td>1</td>\n",
       "      <td>other</td>\n",
       "      <td>yes</td>\n",
       "    </tr>\n",
       "    <tr>\n",
       "      <th>2</th>\n",
       "      <td>33</td>\n",
       "      <td>services</td>\n",
       "      <td>married</td>\n",
       "      <td>secondary</td>\n",
       "      <td>no</td>\n",
       "      <td>3444</td>\n",
       "      <td>yes</td>\n",
       "      <td>no</td>\n",
       "      <td>telephone</td>\n",
       "      <td>21</td>\n",
       "      <td>oct</td>\n",
       "      <td>144</td>\n",
       "      <td>1</td>\n",
       "      <td>91</td>\n",
       "      <td>4</td>\n",
       "      <td>failure</td>\n",
       "      <td>yes</td>\n",
       "    </tr>\n",
       "    <tr>\n",
       "      <th>3</th>\n",
       "      <td>36</td>\n",
       "      <td>management</td>\n",
       "      <td>married</td>\n",
       "      <td>tertiary</td>\n",
       "      <td>no</td>\n",
       "      <td>2415</td>\n",
       "      <td>yes</td>\n",
       "      <td>no</td>\n",
       "      <td>telephone</td>\n",
       "      <td>22</td>\n",
       "      <td>oct</td>\n",
       "      <td>73</td>\n",
       "      <td>1</td>\n",
       "      <td>86</td>\n",
       "      <td>4</td>\n",
       "      <td>other</td>\n",
       "      <td>no</td>\n",
       "    </tr>\n",
       "    <tr>\n",
       "      <th>4</th>\n",
       "      <td>36</td>\n",
       "      <td>management</td>\n",
       "      <td>married</td>\n",
       "      <td>tertiary</td>\n",
       "      <td>no</td>\n",
       "      <td>0</td>\n",
       "      <td>yes</td>\n",
       "      <td>no</td>\n",
       "      <td>telephone</td>\n",
       "      <td>23</td>\n",
       "      <td>oct</td>\n",
       "      <td>140</td>\n",
       "      <td>1</td>\n",
       "      <td>143</td>\n",
       "      <td>3</td>\n",
       "      <td>failure</td>\n",
       "      <td>yes</td>\n",
       "    </tr>\n",
       "  </tbody>\n",
       "</table>\n",
       "</div>"
      ],
      "text/plain": [
       "   age         job  marital  education default  balance housing loan  \\\n",
       "0   33      admin.  married   tertiary      no      882      no   no   \n",
       "1   42      admin.   single  secondary      no     -247     yes  yes   \n",
       "2   33    services  married  secondary      no     3444     yes   no   \n",
       "3   36  management  married   tertiary      no     2415     yes   no   \n",
       "4   36  management  married   tertiary      no        0     yes   no   \n",
       "\n",
       "     contact  day_of_week month  duration  campaign  pdays  previous poutcome  \\\n",
       "0  telephone           21   oct        39         1    151         3  failure   \n",
       "1  telephone           21   oct       519         1    166         1    other   \n",
       "2  telephone           21   oct       144         1     91         4  failure   \n",
       "3  telephone           22   oct        73         1     86         4    other   \n",
       "4  telephone           23   oct       140         1    143         3  failure   \n",
       "\n",
       "     y  \n",
       "0   no  \n",
       "1  yes  \n",
       "2  yes  \n",
       "3   no  \n",
       "4  yes  "
      ]
     },
     "execution_count": 2,
     "metadata": {},
     "output_type": "execute_result"
    }
   ],
   "source": [
    "# import dataset \n",
    "df = pd.read_csv('bank-full.csv')\n",
    "df.dropna(axis=0, inplace=True, ignore_index=True)\n",
    "df.head()"
   ]
  },
  {
   "cell_type": "markdown",
   "metadata": {},
   "source": [
    "# Step 2: Explore the Dataset\n"
   ]
  },
  {
   "cell_type": "markdown",
   "metadata": {},
   "source": [
    "Examine observation and variable count"
   ]
  },
  {
   "cell_type": "code",
   "execution_count": 3,
   "metadata": {},
   "outputs": [
    {
     "name": "stdout",
     "output_type": "stream",
     "text": [
      "(7842, 17)\n"
     ]
    }
   ],
   "source": [
    "print(df.shape)"
   ]
  },
  {
   "cell_type": "markdown",
   "metadata": {},
   "source": [
    "Create 2nd dependent variable: Credit Eligibility"
   ]
  },
  {
   "cell_type": "code",
   "execution_count": 4,
   "metadata": {},
   "outputs": [
    {
     "data": {
      "text/plain": [
       "(balance\n",
       " 0        432\n",
       " 1         20\n",
       " 2         20\n",
       " 4         17\n",
       " 5         17\n",
       "         ... \n",
       " 1128       1\n",
       " 1675       1\n",
       " 1204       1\n",
       " 12980      1\n",
       " 1680       1\n",
       " Name: count, Length: 3090, dtype: int64,\n",
       " default\n",
       " no     7786\n",
       " yes      56\n",
       " Name: count, dtype: int64)"
      ]
     },
     "execution_count": 4,
     "metadata": {},
     "output_type": "execute_result"
    }
   ],
   "source": [
    "df['balance'].value_counts(), df['default'].value_counts()"
   ]
  },
  {
   "cell_type": "code",
   "execution_count": 5,
   "metadata": {},
   "outputs": [
    {
     "data": {
      "text/plain": [
       "credit\n",
       "yes    6921\n",
       "no      921\n",
       "Name: count, dtype: int64"
      ]
     },
     "execution_count": 5,
     "metadata": {},
     "output_type": "execute_result"
    }
   ],
   "source": [
    "# create credit eligibility \n",
    "df['credit'] = df.apply(lambda row: 'yes' if row['balance'] > 0 and row['default'] == 'no' else 'no', axis=1)\n",
    "df['credit'].value_counts()"
   ]
  },
  {
   "cell_type": "markdown",
   "metadata": {},
   "source": [
    "Create subgroup for protected classes"
   ]
  },
  {
   "cell_type": "code",
   "execution_count": 6,
   "metadata": {},
   "outputs": [],
   "source": [
    "# sort dataset by protected class subgroups\n",
    "df['age_group'] = (df['age'] <= 40).astype(int)\n",
    "df['marital_group'] = (df['marital'] == 'married').astype(int)"
   ]
  },
  {
   "cell_type": "code",
   "execution_count": 7,
   "metadata": {},
   "outputs": [],
   "source": [
    "# drop original age and martial columns\n",
    "df.drop(['age', 'marital'], axis=1, inplace=True)"
   ]
  },
  {
   "cell_type": "markdown",
   "metadata": {},
   "source": [
    "Visualize frequency of subgroups in function to depedent variables"
   ]
  },
  {
   "cell_type": "code",
   "execution_count": 8,
   "metadata": {},
   "outputs": [
    {
     "data": {
      "text/html": [
       "<div>\n",
       "<style scoped>\n",
       "    .dataframe tbody tr th:only-of-type {\n",
       "        vertical-align: middle;\n",
       "    }\n",
       "\n",
       "    .dataframe tbody tr th {\n",
       "        vertical-align: top;\n",
       "    }\n",
       "\n",
       "    .dataframe thead th {\n",
       "        text-align: right;\n",
       "    }\n",
       "</style>\n",
       "<table border=\"1\" class=\"dataframe\">\n",
       "  <thead>\n",
       "    <tr style=\"text-align: right;\">\n",
       "      <th>y</th>\n",
       "      <th>no</th>\n",
       "      <th>yes</th>\n",
       "    </tr>\n",
       "    <tr>\n",
       "      <th>age_group</th>\n",
       "      <th></th>\n",
       "      <th></th>\n",
       "    </tr>\n",
       "  </thead>\n",
       "  <tbody>\n",
       "    <tr>\n",
       "      <th>0</th>\n",
       "      <td>2468</td>\n",
       "      <td>794</td>\n",
       "    </tr>\n",
       "    <tr>\n",
       "      <th>1</th>\n",
       "      <td>3588</td>\n",
       "      <td>992</td>\n",
       "    </tr>\n",
       "  </tbody>\n",
       "</table>\n",
       "</div>"
      ],
      "text/plain": [
       "y            no  yes\n",
       "age_group           \n",
       "0          2468  794\n",
       "1          3588  992"
      ]
     },
     "execution_count": 8,
     "metadata": {},
     "output_type": "execute_result"
    }
   ],
   "source": [
    "# age group to subscription\n",
    "ay=pd.crosstab(df['age_group'], df['y'])\n",
    "ay"
   ]
  },
  {
   "cell_type": "code",
   "execution_count": 9,
   "metadata": {},
   "outputs": [
    {
     "data": {
      "text/html": [
       "<div>\n",
       "<style scoped>\n",
       "    .dataframe tbody tr th:only-of-type {\n",
       "        vertical-align: middle;\n",
       "    }\n",
       "\n",
       "    .dataframe tbody tr th {\n",
       "        vertical-align: top;\n",
       "    }\n",
       "\n",
       "    .dataframe thead th {\n",
       "        text-align: right;\n",
       "    }\n",
       "</style>\n",
       "<table border=\"1\" class=\"dataframe\">\n",
       "  <thead>\n",
       "    <tr style=\"text-align: right;\">\n",
       "      <th>credit</th>\n",
       "      <th>no</th>\n",
       "      <th>yes</th>\n",
       "    </tr>\n",
       "    <tr>\n",
       "      <th>age_group</th>\n",
       "      <th></th>\n",
       "      <th></th>\n",
       "    </tr>\n",
       "  </thead>\n",
       "  <tbody>\n",
       "    <tr>\n",
       "      <th>0</th>\n",
       "      <td>420</td>\n",
       "      <td>2842</td>\n",
       "    </tr>\n",
       "    <tr>\n",
       "      <th>1</th>\n",
       "      <td>501</td>\n",
       "      <td>4079</td>\n",
       "    </tr>\n",
       "  </tbody>\n",
       "</table>\n",
       "</div>"
      ],
      "text/plain": [
       "credit      no   yes\n",
       "age_group           \n",
       "0          420  2842\n",
       "1          501  4079"
      ]
     },
     "execution_count": 9,
     "metadata": {},
     "output_type": "execute_result"
    }
   ],
   "source": [
    "# age group to eligibility\n",
    "ac=pd.crosstab(df['age_group'], df['credit'])\n",
    "ac"
   ]
  },
  {
   "cell_type": "code",
   "execution_count": 10,
   "metadata": {},
   "outputs": [
    {
     "data": {
      "text/html": [
       "<div>\n",
       "<style scoped>\n",
       "    .dataframe tbody tr th:only-of-type {\n",
       "        vertical-align: middle;\n",
       "    }\n",
       "\n",
       "    .dataframe tbody tr th {\n",
       "        vertical-align: top;\n",
       "    }\n",
       "\n",
       "    .dataframe thead th {\n",
       "        text-align: right;\n",
       "    }\n",
       "</style>\n",
       "<table border=\"1\" class=\"dataframe\">\n",
       "  <thead>\n",
       "    <tr style=\"text-align: right;\">\n",
       "      <th>y</th>\n",
       "      <th>no</th>\n",
       "      <th>yes</th>\n",
       "    </tr>\n",
       "    <tr>\n",
       "      <th>marital_group</th>\n",
       "      <th></th>\n",
       "      <th></th>\n",
       "    </tr>\n",
       "  </thead>\n",
       "  <tbody>\n",
       "    <tr>\n",
       "      <th>0</th>\n",
       "      <td>2535</td>\n",
       "      <td>806</td>\n",
       "    </tr>\n",
       "    <tr>\n",
       "      <th>1</th>\n",
       "      <td>3521</td>\n",
       "      <td>980</td>\n",
       "    </tr>\n",
       "  </tbody>\n",
       "</table>\n",
       "</div>"
      ],
      "text/plain": [
       "y                no  yes\n",
       "marital_group           \n",
       "0              2535  806\n",
       "1              3521  980"
      ]
     },
     "execution_count": 10,
     "metadata": {},
     "output_type": "execute_result"
    }
   ],
   "source": [
    "# marital status to subscription\n",
    "my=pd.crosstab(df['marital_group'], df['y'])\n",
    "my"
   ]
  },
  {
   "cell_type": "code",
   "execution_count": 11,
   "metadata": {},
   "outputs": [
    {
     "data": {
      "text/html": [
       "<div>\n",
       "<style scoped>\n",
       "    .dataframe tbody tr th:only-of-type {\n",
       "        vertical-align: middle;\n",
       "    }\n",
       "\n",
       "    .dataframe tbody tr th {\n",
       "        vertical-align: top;\n",
       "    }\n",
       "\n",
       "    .dataframe thead th {\n",
       "        text-align: right;\n",
       "    }\n",
       "</style>\n",
       "<table border=\"1\" class=\"dataframe\">\n",
       "  <thead>\n",
       "    <tr style=\"text-align: right;\">\n",
       "      <th>credit</th>\n",
       "      <th>no</th>\n",
       "      <th>yes</th>\n",
       "    </tr>\n",
       "    <tr>\n",
       "      <th>marital_group</th>\n",
       "      <th></th>\n",
       "      <th></th>\n",
       "    </tr>\n",
       "  </thead>\n",
       "  <tbody>\n",
       "    <tr>\n",
       "      <th>0</th>\n",
       "      <td>367</td>\n",
       "      <td>2974</td>\n",
       "    </tr>\n",
       "    <tr>\n",
       "      <th>1</th>\n",
       "      <td>554</td>\n",
       "      <td>3947</td>\n",
       "    </tr>\n",
       "  </tbody>\n",
       "</table>\n",
       "</div>"
      ],
      "text/plain": [
       "credit          no   yes\n",
       "marital_group           \n",
       "0              367  2974\n",
       "1              554  3947"
      ]
     },
     "execution_count": 11,
     "metadata": {},
     "output_type": "execute_result"
    }
   ],
   "source": [
    "# age group to eligibility\n",
    "mc=pd.crosstab(df['marital_group'], df['credit'])\n",
    "mc"
   ]
  },
  {
   "cell_type": "code",
   "execution_count": 12,
   "metadata": {},
   "outputs": [],
   "source": [
    "def p(data, title, xlabel, xtick_labels):\n",
    "    data.plot(kind='bar')\n",
    "    plt.title(title)\n",
    "    plt.xlabel(xlabel)\n",
    "    plt.ylabel('count')\n",
    "    plt.xticks(ticks=range(len(xtick_labels)), labels=xtick_labels, rotation=0)\n",
    "    plt.legend()\n",
    "    plt.tight_layout()\n",
    "    plt.show()"
   ]
  },
  {
   "cell_type": "code",
   "execution_count": 13,
   "metadata": {},
   "outputs": [
    {
     "data": {
      "image/png": "[encoded data removed]",
      "text/plain": [
       "<Figure size 640x480 with 1 Axes>"
      ]
     },
     "metadata": {},
     "output_type": "display_data"
    },
    {
     "data": {
      "image/png": "[encoded data removed]",
      "text/plain": [
       "<Figure size 640x480 with 1 Axes>"
      ]
     },
     "metadata": {},
     "output_type": "display_data"
    },
    {
     "data": {
      "image/png": "[encoded data removed]",
      "text/plain": [
       "<Figure size 640x480 with 1 Axes>"
      ]
     },
     "metadata": {},
     "output_type": "display_data"
    },
    {
     "data": {
      "image/png": "[encoded data removed]",
      "text/plain": [
       "<Figure size 640x480 with 1 Axes>"
      ]
     },
     "metadata": {},
     "output_type": "display_data"
    }
   ],
   "source": [
    "# print frequency bar graph for members in subgroups\n",
    "p(ay, 'Age vs Subscription', 'Age', ['> 40', '<= 40'])\n",
    "p(ac, 'Age vs Credit Eligibility', 'Age', ['> 40', '<= 40'])\n",
    "p(my, 'Marital Status vs Subscription', 'Marital Status', ['Not-Married', 'Married'])\n",
    "p(mc, 'Marital Status vs Credit Eligibility', 'Marital Status', ['Not-Married', 'Married'])"
   ]
  },
  {
   "cell_type": "markdown",
   "metadata": {},
   "source": [
    "Ordinal encode data"
   ]
  },
  {
   "cell_type": "code",
   "execution_count": 14,
   "metadata": {},
   "outputs": [
    {
     "data": {
      "text/html": [
       "<div>\n",
       "<style scoped>\n",
       "    .dataframe tbody tr th:only-of-type {\n",
       "        vertical-align: middle;\n",
       "    }\n",
       "\n",
       "    .dataframe tbody tr th {\n",
       "        vertical-align: top;\n",
       "    }\n",
       "\n",
       "    .dataframe thead th {\n",
       "        text-align: right;\n",
       "    }\n",
       "</style>\n",
       "<table border=\"1\" class=\"dataframe\">\n",
       "  <thead>\n",
       "    <tr style=\"text-align: right;\">\n",
       "      <th></th>\n",
       "      <th>job</th>\n",
       "      <th>education</th>\n",
       "      <th>default</th>\n",
       "      <th>balance</th>\n",
       "      <th>housing</th>\n",
       "      <th>loan</th>\n",
       "      <th>contact</th>\n",
       "      <th>day_of_week</th>\n",
       "      <th>month</th>\n",
       "      <th>duration</th>\n",
       "      <th>campaign</th>\n",
       "      <th>pdays</th>\n",
       "      <th>previous</th>\n",
       "      <th>poutcome</th>\n",
       "      <th>y</th>\n",
       "      <th>credit</th>\n",
       "      <th>age_group</th>\n",
       "      <th>marital_group</th>\n",
       "    </tr>\n",
       "  </thead>\n",
       "  <tbody>\n",
       "    <tr>\n",
       "      <th>0</th>\n",
       "      <td>0.0</td>\n",
       "      <td>2.0</td>\n",
       "      <td>0.0</td>\n",
       "      <td>1155.0</td>\n",
       "      <td>0.0</td>\n",
       "      <td>0.0</td>\n",
       "      <td>1.0</td>\n",
       "      <td>20.0</td>\n",
       "      <td>10.0</td>\n",
       "      <td>34.0</td>\n",
       "      <td>0.0</td>\n",
       "      <td>147.0</td>\n",
       "      <td>2.0</td>\n",
       "      <td>0.0</td>\n",
       "      <td>0.0</td>\n",
       "      <td>1.0</td>\n",
       "      <td>1.0</td>\n",
       "      <td>1.0</td>\n",
       "    </tr>\n",
       "    <tr>\n",
       "      <th>1</th>\n",
       "      <td>0.0</td>\n",
       "      <td>1.0</td>\n",
       "      <td>0.0</td>\n",
       "      <td>180.0</td>\n",
       "      <td>1.0</td>\n",
       "      <td>1.0</td>\n",
       "      <td>1.0</td>\n",
       "      <td>20.0</td>\n",
       "      <td>10.0</td>\n",
       "      <td>512.0</td>\n",
       "      <td>0.0</td>\n",
       "      <td>162.0</td>\n",
       "      <td>0.0</td>\n",
       "      <td>1.0</td>\n",
       "      <td>1.0</td>\n",
       "      <td>0.0</td>\n",
       "      <td>0.0</td>\n",
       "      <td>0.0</td>\n",
       "    </tr>\n",
       "    <tr>\n",
       "      <th>2</th>\n",
       "      <td>7.0</td>\n",
       "      <td>1.0</td>\n",
       "      <td>0.0</td>\n",
       "      <td>2366.0</td>\n",
       "      <td>1.0</td>\n",
       "      <td>0.0</td>\n",
       "      <td>1.0</td>\n",
       "      <td>20.0</td>\n",
       "      <td>10.0</td>\n",
       "      <td>139.0</td>\n",
       "      <td>0.0</td>\n",
       "      <td>87.0</td>\n",
       "      <td>3.0</td>\n",
       "      <td>0.0</td>\n",
       "      <td>1.0</td>\n",
       "      <td>1.0</td>\n",
       "      <td>1.0</td>\n",
       "      <td>1.0</td>\n",
       "    </tr>\n",
       "    <tr>\n",
       "      <th>3</th>\n",
       "      <td>4.0</td>\n",
       "      <td>2.0</td>\n",
       "      <td>0.0</td>\n",
       "      <td>2051.0</td>\n",
       "      <td>1.0</td>\n",
       "      <td>0.0</td>\n",
       "      <td>1.0</td>\n",
       "      <td>21.0</td>\n",
       "      <td>10.0</td>\n",
       "      <td>68.0</td>\n",
       "      <td>0.0</td>\n",
       "      <td>82.0</td>\n",
       "      <td>3.0</td>\n",
       "      <td>1.0</td>\n",
       "      <td>0.0</td>\n",
       "      <td>1.0</td>\n",
       "      <td>1.0</td>\n",
       "      <td>1.0</td>\n",
       "    </tr>\n",
       "    <tr>\n",
       "      <th>4</th>\n",
       "      <td>4.0</td>\n",
       "      <td>2.0</td>\n",
       "      <td>0.0</td>\n",
       "      <td>326.0</td>\n",
       "      <td>1.0</td>\n",
       "      <td>0.0</td>\n",
       "      <td>1.0</td>\n",
       "      <td>22.0</td>\n",
       "      <td>10.0</td>\n",
       "      <td>135.0</td>\n",
       "      <td>0.0</td>\n",
       "      <td>139.0</td>\n",
       "      <td>2.0</td>\n",
       "      <td>0.0</td>\n",
       "      <td>1.0</td>\n",
       "      <td>0.0</td>\n",
       "      <td>1.0</td>\n",
       "      <td>1.0</td>\n",
       "    </tr>\n",
       "  </tbody>\n",
       "</table>\n",
       "</div>"
      ],
      "text/plain": [
       "   job  education  default  balance  housing  loan  contact  day_of_week  \\\n",
       "0  0.0        2.0      0.0   1155.0      0.0   0.0      1.0         20.0   \n",
       "1  0.0        1.0      0.0    180.0      1.0   1.0      1.0         20.0   \n",
       "2  7.0        1.0      0.0   2366.0      1.0   0.0      1.0         20.0   \n",
       "3  4.0        2.0      0.0   2051.0      1.0   0.0      1.0         21.0   \n",
       "4  4.0        2.0      0.0    326.0      1.0   0.0      1.0         22.0   \n",
       "\n",
       "   month  duration  campaign  pdays  previous  poutcome    y  credit  \\\n",
       "0   10.0      34.0       0.0  147.0       2.0       0.0  0.0     1.0   \n",
       "1   10.0     512.0       0.0  162.0       0.0       1.0  1.0     0.0   \n",
       "2   10.0     139.0       0.0   87.0       3.0       0.0  1.0     1.0   \n",
       "3   10.0      68.0       0.0   82.0       3.0       1.0  0.0     1.0   \n",
       "4   10.0     135.0       0.0  139.0       2.0       0.0  1.0     0.0   \n",
       "\n",
       "   age_group  marital_group  \n",
       "0        1.0            1.0  \n",
       "1        0.0            0.0  \n",
       "2        1.0            1.0  \n",
       "3        1.0            1.0  \n",
       "4        1.0            1.0  "
      ]
     },
     "execution_count": 14,
     "metadata": {},
     "output_type": "execute_result"
    }
   ],
   "source": [
    "enc = OrdinalEncoder()\n",
    "encoded=enc.fit_transform(df)\n",
    "encoded=pd.DataFrame(encoded, columns=df.columns)\n",
    "encoded.head()"
   ]
  },
  {
   "cell_type": "markdown",
   "metadata": {},
   "source": [
    "# Step 3: Fairness Metric Selection and Mitigating Bias with PreProcessing Algorithms\n"
   ]
  },
  {
   "cell_type": "markdown",
   "metadata": {},
   "source": [
    "Compute fairness metrics before bias mitigation"
   ]
  },
  {
   "cell_type": "code",
   "execution_count": 15,
   "metadata": {},
   "outputs": [],
   "source": [
    "# Age - Subscription\n",
    "ay_BL = BinaryLabelDataset(\n",
    "    df=encoded,\n",
    "    label_names=['y'],\n",
    "    protected_attribute_names=['age_group']\n",
    ")\n",
    "ay_BL_metric = ClassificationMetric(ay_BL, ay_BL, \n",
    "    unprivileged_groups=[{'age_group': 0}], \n",
    "    privileged_groups=[{'age_group': 1}]\n",
    ")"
   ]
  },
  {
   "cell_type": "code",
   "execution_count": 16,
   "metadata": {},
   "outputs": [],
   "source": [
    "# Age - Credit\n",
    "ac_BL = BinaryLabelDataset(\n",
    "    df=encoded,\n",
    "    label_names=['credit'],\n",
    "    protected_attribute_names=['age_group']\n",
    ")\n",
    "ac_BL_metric = ClassificationMetric(ac_BL, ac_BL, \n",
    "    unprivileged_groups=[{'age_group': 0}], \n",
    "    privileged_groups=[{'age_group': 1}]\n",
    ")"
   ]
  },
  {
   "cell_type": "code",
   "execution_count": 17,
   "metadata": {},
   "outputs": [],
   "source": [
    "# Marital - Subscription\n",
    "my_BL = BinaryLabelDataset(\n",
    "    df=encoded,\n",
    "    label_names=['y'],\n",
    "    protected_attribute_names=['marital_group']\n",
    ")\n",
    "my_BL_metric = ClassificationMetric(my_BL, my_BL, \n",
    "    unprivileged_groups=[{'marital_group': 0}], \n",
    "    privileged_groups=[{'marital_group': 1}]\n",
    ")"
   ]
  },
  {
   "cell_type": "code",
   "execution_count": 18,
   "metadata": {},
   "outputs": [],
   "source": [
    "# Marital - Credit\n",
    "mc_BL = BinaryLabelDataset(\n",
    "    df=encoded,\n",
    "    label_names=['credit'],\n",
    "    protected_attribute_names=['marital_group']\n",
    ")\n",
    "mc_BL_metric = ClassificationMetric(mc_BL, mc_BL, \n",
    "    unprivileged_groups=[{'marital_group': 0}], \n",
    "    privileged_groups=[{'marital_group': 1}]\n",
    ")"
   ]
  },
  {
   "cell_type": "code",
   "execution_count": 19,
   "metadata": {},
   "outputs": [
    {
     "name": "stdout",
     "output_type": "stream",
     "text": [
      "Pre-weigh\n",
      "Age - Subscription (Disparate Impact): 1.123803425565159\n",
      "Age - Subscription (Statistical Parity Difference): 0.026815065100575908\n",
      "Age - Credit (Disparate Impact): 0.9782545793538978\n",
      "Age - Credit (Statistical Parity Difference): -0.019366718518657344\n",
      "Marital - Subscription (Disparate Impact): 1.1080044469149528\n",
      "Marital - Subscription (Statistical Parity Difference): 0.023515742718652227\n",
      "Marital - Credit (Disparate Impact): 1.0150942672238952\n",
      "Marital - Credit (Statistical Parity Difference): 0.013236408072142769\n"
     ]
    }
   ],
   "source": [
    "# print results\n",
    "print('Pre-weigh')\n",
    "print('Age - Subscription (Disparate Impact):', ay_BL_metric.disparate_impact())\n",
    "print('Age - Subscription (Statistical Parity Difference):', ay_BL_metric.statistical_parity_difference())\n",
    "\n",
    "print('Age - Credit (Disparate Impact):', ac_BL_metric.disparate_impact())\n",
    "print('Age - Credit (Statistical Parity Difference):', ac_BL_metric.statistical_parity_difference())\n",
    "\n",
    "print('Marital - Subscription (Disparate Impact):', my_BL_metric.disparate_impact())\n",
    "print('Marital - Subscription (Statistical Parity Difference):', my_BL_metric.statistical_parity_difference())\n",
    "\n",
    "print('Marital - Credit (Disparate Impact):', mc_BL_metric.disparate_impact())\n",
    "print('Marital - Credit (Statistical Parity Difference):', mc_BL_metric.statistical_parity_difference())"
   ]
  },
  {
   "cell_type": "markdown",
   "metadata": {},
   "source": [
    "Reweigh dataset as a function of subscription variable"
   ]
  },
  {
   "cell_type": "code",
   "execution_count": 20,
   "metadata": {},
   "outputs": [],
   "source": [
    "# sample reweigh dataset\n",
    "X = encoded.drop(['y'], axis=1)\n",
    "X.set_index(['age_group', 'marital_group'], inplace=True)\n",
    "y = encoded['y']\n",
    "rw = Reweighing(prot_attr=['age_group', 'marital_group'])\n",
    "_, weight = rw.fit_transform(X, y)\n",
    "df_w = encoded.copy()\n",
    "df_w['weight'] = weight"
   ]
  },
  {
   "cell_type": "markdown",
   "metadata": {},
   "source": [
    "Compute fairness metrics after bias mitigation"
   ]
  },
  {
   "cell_type": "code",
   "execution_count": 21,
   "metadata": {},
   "outputs": [],
   "source": [
    "# Age - Subscription\n",
    "ay_W = BinaryLabelDataset(\n",
    "    df=df_w,\n",
    "    label_names=['y'],\n",
    "    protected_attribute_names=['age_group'],\n",
    "    instance_weights_name=['weight']\n",
    ")\n",
    "ay_W_metric = ClassificationMetric(ay_W, ay_W, \n",
    "    unprivileged_groups=[{'age_group': 0}], \n",
    "    privileged_groups=[{'age_group': 1}]\n",
    ")"
   ]
  },
  {
   "cell_type": "code",
   "execution_count": 22,
   "metadata": {},
   "outputs": [],
   "source": [
    "# Age - Credit\n",
    "ac_W = BinaryLabelDataset(\n",
    "    df=df_w,\n",
    "    label_names=['credit'],\n",
    "    protected_attribute_names=['age_group'],\n",
    "    instance_weights_name=['weight']\n",
    ")\n",
    "ac_W_metric = ClassificationMetric(ac_W, ac_W, \n",
    "    unprivileged_groups=[{'age_group': 0}], \n",
    "    privileged_groups=[{'age_group': 1}]\n",
    ")"
   ]
  },
  {
   "cell_type": "code",
   "execution_count": 23,
   "metadata": {},
   "outputs": [],
   "source": [
    "# Marital - Subscription\n",
    "my_W = BinaryLabelDataset(\n",
    "    df=df_w,\n",
    "    label_names=['y'],\n",
    "    protected_attribute_names=['marital_group'],\n",
    "    instance_weights_name=['weight']\n",
    ")\n",
    "my_W_metric = ClassificationMetric(my_W, my_W, \n",
    "    unprivileged_groups=[{'marital_group': 0}], \n",
    "    privileged_groups=[{'marital_group': 1}]\n",
    ")"
   ]
  },
  {
   "cell_type": "code",
   "execution_count": 24,
   "metadata": {},
   "outputs": [],
   "source": [
    "# Marital - Credit\n",
    "mc_W = BinaryLabelDataset(\n",
    "    df=df_w,\n",
    "    label_names=['credit'],\n",
    "    protected_attribute_names=['marital_group'],\n",
    "    instance_weights_name=['weight']\n",
    ")\n",
    "mc_W_metric = ClassificationMetric(mc_W, mc_W, \n",
    "    unprivileged_groups=[{'marital_group': 0}], \n",
    "    privileged_groups=[{'marital_group': 1}]\n",
    ")"
   ]
  },
  {
   "cell_type": "code",
   "execution_count": 25,
   "metadata": {},
   "outputs": [
    {
     "name": "stdout",
     "output_type": "stream",
     "text": [
      "Post-weigh\n",
      "Age - Subscription (Disparate Impact): 0.9999999999999999\n",
      "Age - Subscription (Statistical Parity Difference): -2.7755575615628914e-17\n",
      "Age - Credit (Disparate Impact): 0.9767550783564906\n",
      "Age - Credit (Statistical Parity Difference): -0.020706696714963058\n",
      "Marital - Subscription (Disparate Impact): 1.0000000000000002\n",
      "Marital - Subscription (Statistical Parity Difference): 2.7755575615628914e-17\n",
      "Marital - Credit (Disparate Impact): 1.014016614693318\n",
      "Marital - Credit (Statistical Parity Difference): 0.012291941280142993\n"
     ]
    }
   ],
   "source": [
    "# print results\n",
    "print('Post-weigh')\n",
    "print('Age - Subscription (Disparate Impact):', ay_W_metric.disparate_impact())\n",
    "print('Age - Subscription (Statistical Parity Difference):', ay_W_metric.statistical_parity_difference())\n",
    "\n",
    "print('Age - Credit (Disparate Impact):', ac_W_metric.disparate_impact())\n",
    "print('Age - Credit (Statistical Parity Difference):', ac_W_metric.statistical_parity_difference())\n",
    "\n",
    "print('Marital - Subscription (Disparate Impact):', my_W_metric.disparate_impact())\n",
    "print('Marital - Subscription (Statistical Parity Difference):', my_W_metric.statistical_parity_difference())\n",
    "\n",
    "print('Marital - Credit (Disparate Impact):', mc_W_metric.disparate_impact())\n",
    "print('Marital - Credit (Statistical Parity Difference):', mc_W_metric.statistical_parity_difference())"
   ]
  },
  {
   "cell_type": "markdown",
   "metadata": {},
   "source": [
    "# Step 4: Mitigating Bias\n"
   ]
  },
  {
   "cell_type": "markdown",
   "metadata": {},
   "source": [
    "Split train test data"
   ]
  },
  {
   "cell_type": "code",
   "execution_count": 26,
   "metadata": {},
   "outputs": [],
   "source": [
    "# split into training and testing\n",
    "X = encoded.drop(['y'], axis=1)\n",
    "y = encoded['y']\n",
    "X_train, X_test, y_train, y_test = train_test_split(X, y, test_size=0.2, random_state=42)"
   ]
  },
  {
   "cell_type": "markdown",
   "metadata": {},
   "source": [
    "Train linear classifier using original data and as a function of subscription variable"
   ]
  },
  {
   "cell_type": "code",
   "execution_count": 27,
   "metadata": {},
   "outputs": [],
   "source": [
    "# linear regression\n",
    "pre_model = LinearRegression()\n",
    "pre_model.fit(X_train, y_train)\n",
    "pre_y_pred = pre_model.predict(X_test)"
   ]
  },
  {
   "cell_type": "code",
   "execution_count": 28,
   "metadata": {},
   "outputs": [],
   "source": [
    "# sort prediction into yes or no based on threshold\n",
    "threshold = 0.5\n",
    "pre_df = X_test.copy()\n",
    "pre_df['y_pred'] = (pre_y_pred > threshold).astype(float)"
   ]
  },
  {
   "cell_type": "markdown",
   "metadata": {},
   "source": [
    "Compute fairness metric on results"
   ]
  },
  {
   "cell_type": "code",
   "execution_count": 29,
   "metadata": {},
   "outputs": [],
   "source": [
    "# Age - Subscription\n",
    "pre_ay_BL = BinaryLabelDataset(\n",
    "    df=pre_df,\n",
    "    label_names=['y_pred'],\n",
    "    protected_attribute_names=['age_group'],\n",
    ")\n",
    "pre_ay_BL_metric = ClassificationMetric(pre_ay_BL, pre_ay_BL, \n",
    "    unprivileged_groups=[{'age_group': 0}], \n",
    "    privileged_groups=[{'age_group': 1}]\n",
    ")"
   ]
  },
  {
   "cell_type": "code",
   "execution_count": 30,
   "metadata": {},
   "outputs": [],
   "source": [
    "# Age - Subscription\n",
    "pre_my_BL = BinaryLabelDataset(\n",
    "    df=pre_df,\n",
    "    label_names=['y_pred'],\n",
    "    protected_attribute_names=['marital_group'],\n",
    ")\n",
    "pre_my_BL_metric = ClassificationMetric(pre_my_BL, pre_my_BL, \n",
    "    unprivileged_groups=[{'marital_group': 0}], \n",
    "    privileged_groups=[{'marital_group': 1}]\n",
    ")"
   ]
  },
  {
   "cell_type": "code",
   "execution_count": 31,
   "metadata": {},
   "outputs": [
    {
     "name": "stdout",
     "output_type": "stream",
     "text": [
      "Pre-weigh, Linear Regression\n",
      "Age - Subscription (Disparate Impact): 1.3185847775736763\n",
      "Age - Subscription (Statistical Parity Difference): 0.04656239056846037\n",
      "Marital - Subscription (Disparate Impact): 1.067005516642906\n",
      "Marital - Subscription (Statistical Parity Difference): 0.010797798487708898\n"
     ]
    }
   ],
   "source": [
    "# print results\n",
    "print('Pre-weigh, Linear Regression')\n",
    "print('Age - Subscription (Disparate Impact):', pre_ay_BL_metric.disparate_impact())\n",
    "print('Age - Subscription (Statistical Parity Difference):', pre_ay_BL_metric.statistical_parity_difference())\n",
    "\n",
    "print('Marital - Subscription (Disparate Impact):', pre_my_BL_metric.disparate_impact())\n",
    "print('Marital - Subscription (Statistical Parity Difference):', pre_my_BL_metric.statistical_parity_difference())"
   ]
  },
  {
   "cell_type": "markdown",
   "metadata": {},
   "source": [
    "Create weights for test values"
   ]
  },
  {
   "cell_type": "code",
   "execution_count": 32,
   "metadata": {},
   "outputs": [],
   "source": [
    "_, lr_weight = rw.fit_transform(\n",
    "    X_train.set_index(['age_group', 'marital_group'], inplace=False),\n",
    "    y_train\n",
    ")"
   ]
  },
  {
   "cell_type": "markdown",
   "metadata": {},
   "source": [
    "Train linear classifier using weighed data and as a function of subscription variable"
   ]
  },
  {
   "cell_type": "code",
   "execution_count": 33,
   "metadata": {},
   "outputs": [],
   "source": [
    "# linear regression\n",
    "post_model = LinearRegression()\n",
    "post_model.fit(X_train, y_train, sample_weight=lr_weight)\n",
    "post_y_pred = post_model.predict(X_test)"
   ]
  },
  {
   "cell_type": "code",
   "execution_count": 34,
   "metadata": {},
   "outputs": [],
   "source": [
    "# sort prediction into yes or no based on threshold\n",
    "threshold = 0.5\n",
    "post_df = X_test.copy()\n",
    "post_df['y_pred'] = (post_y_pred > threshold).astype(float)"
   ]
  },
  {
   "cell_type": "markdown",
   "metadata": {},
   "source": [
    "Compute fairness metric on results"
   ]
  },
  {
   "cell_type": "code",
   "execution_count": 35,
   "metadata": {},
   "outputs": [],
   "source": [
    "# Age - Subscription\n",
    "post_ay_W = BinaryLabelDataset(\n",
    "    df=post_df,\n",
    "    label_names=['y_pred'],\n",
    "    protected_attribute_names=['age_group'],\n",
    ")\n",
    "post_ay_W_metric = ClassificationMetric(post_ay_W, post_ay_W, \n",
    "    unprivileged_groups=[{'age_group': 0}], \n",
    "    privileged_groups=[{'age_group': 1}]\n",
    ")"
   ]
  },
  {
   "cell_type": "code",
   "execution_count": 36,
   "metadata": {},
   "outputs": [],
   "source": [
    "# Age - Subscription\n",
    "post_my_W = BinaryLabelDataset(\n",
    "    df=post_df,\n",
    "    label_names=['y_pred'],\n",
    "    protected_attribute_names=['marital_group'],\n",
    ")\n",
    "post_my_W_metric = ClassificationMetric(post_my_W, post_my_W, \n",
    "    unprivileged_groups=[{'marital_group': 0}], \n",
    "    privileged_groups=[{'marital_group': 1}]\n",
    ")"
   ]
  },
  {
   "cell_type": "code",
   "execution_count": 37,
   "metadata": {},
   "outputs": [
    {
     "name": "stdout",
     "output_type": "stream",
     "text": [
      "Post-weigh, Linear Regression\n",
      "Age - Subscription (Disparate Impact): 1.227448996796493\n",
      "Age - Subscription (Statistical Parity Difference): 0.033742433590688514\n",
      "Marital - Subscription (Disparate Impact): 1.0039708190968695\n",
      "Marital - Subscription (Statistical Parity Difference): 0.0006442719726708901\n"
     ]
    }
   ],
   "source": [
    "# print results\n",
    "print('Post-weigh, Linear Regression')\n",
    "print('Age - Subscription (Disparate Impact):', post_ay_W_metric.disparate_impact())\n",
    "print('Age - Subscription (Statistical Parity Difference):', post_ay_W_metric.statistical_parity_difference())\n",
    "\n",
    "print('Marital - Subscription (Disparate Impact):', post_my_W_metric.disparate_impact())\n",
    "print('Marital - Subscription (Statistical Parity Difference):', post_my_W_metric.statistical_parity_difference())"
   ]
  }
 ],
 "metadata": {
  "kernelspec": {
   "display_name": "6603_pf",
   "language": "python",
   "name": "python3"
  },
  "language_info": {
   "codemirror_mode": {
    "name": "ipython",
    "version": 3
   },
   "file_extension": ".py",
   "mimetype": "text/x-python",
   "name": "python",
   "nbconvert_exporter": "python",
   "pygments_lexer": "ipython3",
   "version": "3.13.2"
  }
 },
 "nbformat": 4,
 "nbformat_minor": 2
}
